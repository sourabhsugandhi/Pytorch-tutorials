{
  "nbformat": 4,
  "nbformat_minor": 0,
  "metadata": {
    "colab": {
      "name": "PyTorch_Basic.ipynb",
      "provenance": [],
      "collapsed_sections": []
    },
    "kernelspec": {
      "name": "python3",
      "display_name": "Python 3"
    },
    "accelerator": "TPU"
  },
  "cells": [
    {
      "cell_type": "code",
      "metadata": {
        "id": "8xLWGkANXzR4"
      },
      "source": [
        "import torch\r\n",
        "import numpy as np"
      ],
      "execution_count": 7,
      "outputs": []
    },
    {
      "cell_type": "code",
      "metadata": {
        "colab": {
          "base_uri": "https://localhost:8080/"
        },
        "id": "6hl58VzkYTYH",
        "outputId": "d0c10f0a-245c-4b70-a065-a733675d7c6c"
      },
      "source": [
        "x = torch.ones(3,3)\r\n",
        "x"
      ],
      "execution_count": 3,
      "outputs": [
        {
          "output_type": "execute_result",
          "data": {
            "text/plain": [
              "tensor([[1., 1., 1.],\n",
              "        [1., 1., 1.],\n",
              "        [1., 1., 1.]])"
            ]
          },
          "metadata": {
            "tags": []
          },
          "execution_count": 3
        }
      ]
    },
    {
      "cell_type": "code",
      "metadata": {
        "colab": {
          "base_uri": "https://localhost:8080/",
          "height": 35
        },
        "id": "B3HNSFLZabGB",
        "outputId": "665055a0-3738-43cb-91d0-37d7b8f6673c"
      },
      "source": [
        "torch.__version__"
      ],
      "execution_count": 4,
      "outputs": [
        {
          "output_type": "execute_result",
          "data": {
            "application/vnd.google.colaboratory.intrinsic+json": {
              "type": "string"
            },
            "text/plain": [
              "'1.7.0+cu101'"
            ]
          },
          "metadata": {
            "tags": []
          },
          "execution_count": 4
        }
      ]
    },
    {
      "cell_type": "markdown",
      "metadata": {
        "id": "e_aAiRdgd5LR"
      },
      "source": [
        "#Tensors\r\n",
        "\r\n",
        "######A Tensor is a generalization of vectors and matrices and is easily understood as a multidimensional array. it is a term and set of techniques known in machine learning in the training and operation of deep learning models can be described in terms of tensors. In many cases tensors are used as a replacement of NumPy to use the power of GPUs.\r\n",
        "\r\n",
        "######Tensors are a type of data structure used in linear algebra and like vetors and matrices, you can calculate arithmetic operations with tensors. "
      ]
    },
    {
      "cell_type": "code",
      "metadata": {
        "colab": {
          "base_uri": "https://localhost:8080/"
        },
        "id": "mAgL2DgMfRs5",
        "outputId": "cc2fdeec-7841-4bff-b2ed-48a54e5baa88"
      },
      "source": [
        "lst = [3,4,5,6]\r\n",
        "arr = np.array(lst)\r\n",
        "arr.dtype"
      ],
      "execution_count": 8,
      "outputs": [
        {
          "output_type": "execute_result",
          "data": {
            "text/plain": [
              "dtype('int64')"
            ]
          },
          "metadata": {
            "tags": []
          },
          "execution_count": 8
        }
      ]
    },
    {
      "cell_type": "markdown",
      "metadata": {
        "id": "Qt7V2uzdgJC9"
      },
      "source": [
        "#Convert Numpy To Pytorch Tensors"
      ]
    },
    {
      "cell_type": "code",
      "metadata": {
        "colab": {
          "base_uri": "https://localhost:8080/"
        },
        "id": "uF43k373gPJ2",
        "outputId": "0830f2d2-080f-42ce-e164-6eaff119c899"
      },
      "source": [
        "tensors = torch.from_numpy(arr)\r\n",
        "tensors"
      ],
      "execution_count": 9,
      "outputs": [
        {
          "output_type": "execute_result",
          "data": {
            "text/plain": [
              "tensor([3, 4, 5, 6])"
            ]
          },
          "metadata": {
            "tags": []
          },
          "execution_count": 9
        }
      ]
    },
    {
      "cell_type": "code",
      "metadata": {
        "colab": {
          "base_uri": "https://localhost:8080/"
        },
        "id": "iIFW2RQOgWsz",
        "outputId": "dcdbdf1e-8478-4d48-8768-f583050abade"
      },
      "source": [
        "## Indexing similar to numpy\r\n",
        "tensors[:2]"
      ],
      "execution_count": 10,
      "outputs": [
        {
          "output_type": "execute_result",
          "data": {
            "text/plain": [
              "tensor([3, 4])"
            ]
          },
          "metadata": {
            "tags": []
          },
          "execution_count": 10
        }
      ]
    },
    {
      "cell_type": "code",
      "metadata": {
        "colab": {
          "base_uri": "https://localhost:8080/"
        },
        "id": "bHxhq3DgkPUm",
        "outputId": "620bfe79-9d37-4839-d2fb-d8af9e502e4f"
      },
      "source": [
        "#2D arrays\r\n",
        "arr2d = np.arange(0,15).reshape(5,3)\r\n",
        "tensord2d = torch.tensor(arr2d)\r\n",
        "print(arr2d)\r\n",
        "print(tensord2d)"
      ],
      "execution_count": 22,
      "outputs": [
        {
          "output_type": "stream",
          "text": [
            "[[ 0  1  2]\n",
            " [ 3  4  5]\n",
            " [ 6  7  8]\n",
            " [ 9 10 11]\n",
            " [12 13 14]]\n",
            "tensor([[ 0,  1,  2],\n",
            "        [ 3,  4,  5],\n",
            "        [ 6,  7,  8],\n",
            "        [ 9, 10, 11],\n",
            "        [12, 13, 14]])\n"
          ],
          "name": "stdout"
        }
      ]
    },
    {
      "cell_type": "code",
      "metadata": {
        "colab": {
          "base_uri": "https://localhost:8080/"
        },
        "id": "CeDgp7vHkuTM",
        "outputId": "74d38ac8-be7f-42cd-83b3-fff4931aa456"
      },
      "source": [
        "#indexing for 2D\r\n",
        "\r\n",
        "print(tensord2d [:,0])\r\n",
        "print(tensord2d[:,0:2])"
      ],
      "execution_count": 24,
      "outputs": [
        {
          "output_type": "stream",
          "text": [
            "tensor([ 0,  3,  6,  9, 12])\n",
            "tensor([[ 0,  1],\n",
            "        [ 3,  4],\n",
            "        [ 6,  7],\n",
            "        [ 9, 10],\n",
            "        [12, 13]])\n"
          ],
          "name": "stdout"
        }
      ]
    },
    {
      "cell_type": "code",
      "metadata": {
        "colab": {
          "base_uri": "https://localhost:8080/"
        },
        "id": "1NfBBssugrKV",
        "outputId": "cb0b2c52-de63-4a52-db1c-bc9b7eb0d6ed"
      },
      "source": [
        "# Disadvantage of from_numpy. The array and tensor uses the same memory Location\r\n",
        "#If u change anything in Tensors it will directly affectv the numpy arr\r\n",
        "\r\n",
        "tensors[3] = 100\r\n",
        "print(\"new tensor:\", tensors)\r\n",
        "print(\"new Arr:\", arr)"
      ],
      "execution_count": 12,
      "outputs": [
        {
          "output_type": "stream",
          "text": [
            "new tensor: tensor([  3,   4,   5, 100])\n",
            "new Arr: [  3   4   5 100]\n"
          ],
          "name": "stdout"
        }
      ]
    },
    {
      "cell_type": "code",
      "metadata": {
        "colab": {
          "base_uri": "https://localhost:8080/"
        },
        "id": "muk2ydZShQ-C",
        "outputId": "df1377ad-b6ce-4e5e-c6db-adda67738424"
      },
      "source": [
        "## Prevent this by using torch.tensor\r\n",
        "\r\n",
        "tensor_arr = torch.tensor(arr)\r\n",
        "print(\"old tensor:\", tensor_arr)\r\n",
        "\r\n",
        "tensor_arr[3] = 20\r\n",
        "print(\"new tensor:\", tensor_arr)\r\n",
        "print(\"old Arr:\", arr)\r\n",
        "\r\n"
      ],
      "execution_count": 15,
      "outputs": [
        {
          "output_type": "stream",
          "text": [
            "old tensor: tensor([  3,   4,   5, 100])\n",
            "new tensor: tensor([ 3,  4,  5, 20])\n",
            "old Arr: [  3   4   5 100]\n"
          ],
          "name": "stdout"
        }
      ]
    },
    {
      "cell_type": "code",
      "metadata": {
        "colab": {
          "base_uri": "https://localhost:8080/"
        },
        "id": "5wUdcK3jhpkD",
        "outputId": "f53f6394-906c-4f6a-e266-18dac7c6e00a"
      },
      "source": [
        "## Zeros and ones\r\n",
        "torch.zeros(2,3,dtype=torch.float64)"
      ],
      "execution_count": 16,
      "outputs": [
        {
          "output_type": "execute_result",
          "data": {
            "text/plain": [
              "tensor([[0., 0., 0.],\n",
              "        [0., 0., 0.]], dtype=torch.float64)"
            ]
          },
          "metadata": {
            "tags": []
          },
          "execution_count": 16
        }
      ]
    },
    {
      "cell_type": "code",
      "metadata": {
        "colab": {
          "base_uri": "https://localhost:8080/"
        },
        "id": "UpyvmWueiXNK",
        "outputId": "552419a4-899e-4551-8ccc-88a08956ee1c"
      },
      "source": [
        "torch.ones(2,3, dtype=torch.float64)\r\n"
      ],
      "execution_count": 20,
      "outputs": [
        {
          "output_type": "execute_result",
          "data": {
            "text/plain": [
              "tensor([[1., 1., 1.],\n",
              "        [1., 1., 1.]], dtype=torch.float64)"
            ]
          },
          "metadata": {
            "tags": []
          },
          "execution_count": 20
        }
      ]
    },
    {
      "cell_type": "markdown",
      "metadata": {
        "id": "nRHNQw6GlFd5"
      },
      "source": [
        "#Arithmetic Operations"
      ]
    },
    {
      "cell_type": "code",
      "metadata": {
        "colab": {
          "base_uri": "https://localhost:8080/"
        },
        "id": "xyT0o2_0iiA0",
        "outputId": "463a78f0-1fbb-4f90-e543-aa0ed1611185"
      },
      "source": [
        "a = torch.tensor([3,4,5], dtype=torch.float)\r\n",
        "b = torch.tensor([4,5,6], dtype = torch.float)\r\n",
        "print(a+b)"
      ],
      "execution_count": 25,
      "outputs": [
        {
          "output_type": "stream",
          "text": [
            "tensor([ 7.,  9., 11.])\n"
          ],
          "name": "stdout"
        }
      ]
    },
    {
      "cell_type": "code",
      "metadata": {
        "colab": {
          "base_uri": "https://localhost:8080/"
        },
        "id": "L-Yfm93HlhIL",
        "outputId": "bce43ba3-668c-480e-c9d5-8d284957fb95"
      },
      "source": [
        "torch.add(a,b)"
      ],
      "execution_count": 26,
      "outputs": [
        {
          "output_type": "execute_result",
          "data": {
            "text/plain": [
              "tensor([ 7.,  9., 11.])"
            ]
          },
          "metadata": {
            "tags": []
          },
          "execution_count": 26
        }
      ]
    },
    {
      "cell_type": "code",
      "metadata": {
        "colab": {
          "base_uri": "https://localhost:8080/"
        },
        "id": "fk6wyMu5lkWw",
        "outputId": "b85a58be-5d54-4abe-fd76-1b3eef4fd713"
      },
      "source": [
        "#if u want to store output in a new tensor\r\n",
        "\r\n",
        "c = torch.zeros(3) #we took 1D array because of output we are getting by adding a and b\r\n",
        "\r\n",
        "torch.add(a,b,out=c)\r\n",
        "\r\n",
        "print(c)"
      ],
      "execution_count": 27,
      "outputs": [
        {
          "output_type": "stream",
          "text": [
            "tensor([ 7.,  9., 11.])\n"
          ],
          "name": "stdout"
        }
      ]
    },
    {
      "cell_type": "code",
      "metadata": {
        "colab": {
          "base_uri": "https://localhost:8080/"
        },
        "id": "60gaso7umUSL",
        "outputId": "224d951c-ae49-4f61-c617-e84dcb503cc4"
      },
      "source": [
        "# Here add a&b and also sum all the output together\r\n",
        "\r\n",
        "torch.add(a,b).sum()"
      ],
      "execution_count": 28,
      "outputs": [
        {
          "output_type": "execute_result",
          "data": {
            "text/plain": [
              "tensor(27.)"
            ]
          },
          "metadata": {
            "tags": []
          },
          "execution_count": 28
        }
      ]
    },
    {
      "cell_type": "markdown",
      "metadata": {
        "id": "kx5HmbrJmq6K"
      },
      "source": [
        "#Dot Products and Mult Operations"
      ]
    },
    {
      "cell_type": "code",
      "metadata": {
        "colab": {
          "base_uri": "https://localhost:8080/"
        },
        "id": "puLv1E6RmpPI",
        "outputId": "01eb1825-1888-45a1-c073-4d8b36da3f87"
      },
      "source": [
        "x = torch.tensor([3,4,5], dtype=torch.float)\r\n",
        "y = torch.tensor([4,5,6], dtype = torch.float)\r\n",
        "\r\n",
        "x.mul(y)"
      ],
      "execution_count": 29,
      "outputs": [
        {
          "output_type": "execute_result",
          "data": {
            "text/plain": [
              "tensor([12., 20., 30.])"
            ]
          },
          "metadata": {
            "tags": []
          },
          "execution_count": 29
        }
      ]
    },
    {
      "cell_type": "code",
      "metadata": {
        "colab": {
          "base_uri": "https://localhost:8080/"
        },
        "id": "UAuJJA0bvi48",
        "outputId": "aad91691-3c7e-492f-859d-71df8e9e1af5"
      },
      "source": [
        "#Dot Product--- 3*4+4*5+5*6 = 62\r\n",
        "\r\n",
        "x.dot(y)"
      ],
      "execution_count": 30,
      "outputs": [
        {
          "output_type": "execute_result",
          "data": {
            "text/plain": [
              "tensor(62.)"
            ]
          },
          "metadata": {
            "tags": []
          },
          "execution_count": 30
        }
      ]
    },
    {
      "cell_type": "code",
      "metadata": {
        "id": "b-0MA_-9vwA4"
      },
      "source": [
        "#Matrix multiplication\r\n",
        "\r\n",
        "x = torch.tensor([[1,4,2],[1,5,5]], dtype=torch.float)\r\n",
        "y = torch.tensor([[5,7],[8,6],[9,11]], dtype=torch.float)\r\n"
      ],
      "execution_count": 31,
      "outputs": []
    },
    {
      "cell_type": "code",
      "metadata": {
        "colab": {
          "base_uri": "https://localhost:8080/"
        },
        "id": "6NgdERH7wIQ9",
        "outputId": "731248ee-2477-4dac-df27-d7289e805f88"
      },
      "source": [
        "torch.matmul(x,y)"
      ],
      "execution_count": 32,
      "outputs": [
        {
          "output_type": "execute_result",
          "data": {
            "text/plain": [
              "tensor([[55., 53.],\n",
              "        [90., 92.]])"
            ]
          },
          "metadata": {
            "tags": []
          },
          "execution_count": 32
        }
      ]
    },
    {
      "cell_type": "code",
      "metadata": {
        "colab": {
          "base_uri": "https://localhost:8080/"
        },
        "id": "MzpRCJvpwUfs",
        "outputId": "d6c4b825-2c02-4c34-bb7e-b2063b3c3f72"
      },
      "source": [
        "#shortform for matmul\r\n",
        "\r\n",
        "torch.mm(x,y)"
      ],
      "execution_count": 33,
      "outputs": [
        {
          "output_type": "execute_result",
          "data": {
            "text/plain": [
              "tensor([[55., 53.],\n",
              "        [90., 92.]])"
            ]
          },
          "metadata": {
            "tags": []
          },
          "execution_count": 33
        }
      ]
    },
    {
      "cell_type": "code",
      "metadata": {
        "colab": {
          "base_uri": "https://localhost:8080/"
        },
        "id": "zl3tg10DwfNB",
        "outputId": "8064a9f4-1b99-46f8-f091-217a67f90167"
      },
      "source": [
        "#Another option for multiplication\r\n",
        "x@y"
      ],
      "execution_count": 35,
      "outputs": [
        {
          "output_type": "execute_result",
          "data": {
            "text/plain": [
              "tensor([[55., 53.],\n",
              "        [90., 92.]])"
            ]
          },
          "metadata": {
            "tags": []
          },
          "execution_count": 35
        }
      ]
    },
    {
      "cell_type": "markdown",
      "metadata": {
        "id": "MWHtB6Clw2rz"
      },
      "source": [
        "#Back Propogation Using Pytorch\r\n",
        "\r\n",
        "##Compute Derivatives\r\n",
        "\r\n",
        "####x^n--------> derivative-------> n*x^n-1\r\n",
        "\r\n",
        "####y = x^2\r\n",
        "\r\n",
        "####Derivative of y w.r.t x\r\n",
        "####dy/dx = 2*x^2-1 ----> 2x\r\n",
        "\r\n",
        "\r\n",
        "\r\n"
      ]
    },
    {
      "cell_type": "code",
      "metadata": {
        "colab": {
          "base_uri": "https://localhost:8080/"
        },
        "id": "fKlzsU8yw9j8",
        "outputId": "94c07bd3-aa19-440c-9eaf-4e8b3fc2c34f"
      },
      "source": [
        "x = torch.tensor(4.0, requires_grad=True) #requires_grad=True --> gradient should be initialized when we want to do back propogation\r\n",
        "x"
      ],
      "execution_count": 45,
      "outputs": [
        {
          "output_type": "execute_result",
          "data": {
            "text/plain": [
              "tensor(4., requires_grad=True)"
            ]
          },
          "metadata": {
            "tags": []
          },
          "execution_count": 45
        }
      ]
    },
    {
      "cell_type": "code",
      "metadata": {
        "colab": {
          "base_uri": "https://localhost:8080/"
        },
        "id": "7f5BcLvCyt-y",
        "outputId": "c532248c-9363-4ce7-cf6e-7e63b4eca3dd"
      },
      "source": [
        "y = x**2\r\n",
        "y"
      ],
      "execution_count": 46,
      "outputs": [
        {
          "output_type": "execute_result",
          "data": {
            "text/plain": [
              "tensor(16., grad_fn=<PowBackward0>)"
            ]
          },
          "metadata": {
            "tags": []
          },
          "execution_count": 46
        }
      ]
    },
    {
      "cell_type": "code",
      "metadata": {
        "colab": {
          "base_uri": "https://localhost:8080/"
        },
        "id": "u6tpXGDLzFnA",
        "outputId": "5aefdbae-16bc-48df-9bf4-58d5a71dd5cb"
      },
      "source": [
        "#After backpropogation by solving equation the value of x == 8\r\n",
        "#To get that Back propogation --> y =2*x\r\n",
        "#by using Torch\r\n",
        "\r\n",
        "y.backward()\r\n",
        "\r\n",
        "\r\n",
        "print(x.grad)"
      ],
      "execution_count": 47,
      "outputs": [
        {
          "output_type": "stream",
          "text": [
            "tensor(8.)\n"
          ],
          "name": "stdout"
        }
      ]
    },
    {
      "cell_type": "markdown",
      "metadata": {
        "id": "w0FmoStY0L8l"
      },
      "source": [
        "####More..........."
      ]
    },
    {
      "cell_type": "code",
      "metadata": {
        "colab": {
          "base_uri": "https://localhost:8080/"
        },
        "id": "cMD40WC1zo0Y",
        "outputId": "fb001582-470d-41cb-8235-df3a9a4bf4cc"
      },
      "source": [
        "#Only Tensors of floating point dtype can require gradients\r\n",
        "\r\n",
        "lst = [[2.,3.,1.],[4.,5.,3.],[7.,6.,4.]]\r\n",
        "torch_input = torch.tensor(lst, requires_grad=True)\r\n",
        "\r\n",
        "torch_input"
      ],
      "execution_count": 48,
      "outputs": [
        {
          "output_type": "execute_result",
          "data": {
            "text/plain": [
              "tensor([[2., 3., 1.],\n",
              "        [4., 5., 3.],\n",
              "        [7., 6., 4.]], requires_grad=True)"
            ]
          },
          "metadata": {
            "tags": []
          },
          "execution_count": 48
        }
      ]
    },
    {
      "cell_type": "code",
      "metadata": {
        "colab": {
          "base_uri": "https://localhost:8080/"
        },
        "id": "vlExuBoK0zMp",
        "outputId": "f13daea2-552a-4e86-8d8a-c72be3523d6d"
      },
      "source": [
        "# y = x**3 + x**2\r\n",
        "# So, if x is 2 then y = 2**3+2**2 = 8+4 = 12\r\n",
        "\r\n",
        "y = torch_input**3+torch_input**2\r\n",
        "y"
      ],
      "execution_count": 49,
      "outputs": [
        {
          "output_type": "execute_result",
          "data": {
            "text/plain": [
              "tensor([[ 12.,  36.,   2.],\n",
              "        [ 80., 150.,  36.],\n",
              "        [392., 252.,  80.]], grad_fn=<AddBackward0>)"
            ]
          },
          "metadata": {
            "tags": []
          },
          "execution_count": 49
        }
      ]
    },
    {
      "cell_type": "code",
      "metadata": {
        "colab": {
          "base_uri": "https://localhost:8080/"
        },
        "id": "fdID7zsm1Jg0",
        "outputId": "bc214ee6-a2ac-46ed-f590-b2fcaebc1178"
      },
      "source": [
        "z=y.sum()\r\n",
        "z"
      ],
      "execution_count": 50,
      "outputs": [
        {
          "output_type": "execute_result",
          "data": {
            "text/plain": [
              "tensor(1040., grad_fn=<SumBackward0>)"
            ]
          },
          "metadata": {
            "tags": []
          },
          "execution_count": 50
        }
      ]
    },
    {
      "cell_type": "code",
      "metadata": {
        "colab": {
          "base_uri": "https://localhost:8080/"
        },
        "id": "1serwRfa1mtM",
        "outputId": "53926b2d-ee44-42bf-f479-03fb7650df0b"
      },
      "source": [
        "# Derivative of y = x**3 + x**2 is y = 3x**2+2x\r\n",
        "# if x = 2 then y = 3*2**2+2*2 = 16\r\n",
        "\r\n",
        "#So, lets create a backward propogation\r\n",
        "\r\n",
        "z.backward()\r\n",
        "torch_input.grad"
      ],
      "execution_count": 51,
      "outputs": [
        {
          "output_type": "execute_result",
          "data": {
            "text/plain": [
              "tensor([[ 16.,  33.,   5.],\n",
              "        [ 56.,  85.,  33.],\n",
              "        [161., 120.,  56.]])"
            ]
          },
          "metadata": {
            "tags": []
          },
          "execution_count": 51
        }
      ]
    },
    {
      "cell_type": "code",
      "metadata": {
        "id": "z1B3fa2m2do-"
      },
      "source": [
        ""
      ],
      "execution_count": null,
      "outputs": []
    }
  ]
}